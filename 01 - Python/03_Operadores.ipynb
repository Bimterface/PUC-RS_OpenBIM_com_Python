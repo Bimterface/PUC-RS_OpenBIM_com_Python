{
 "cells": [
  {
   "cell_type": "markdown",
   "id": "6c3c0e24",
   "metadata": {},
   "source": [
    "\n",
    "# Operadores em Python\n",
    "\n",
    "## Aritméticos\n",
    "\n",
    "```python\n",
    "a = 10\n",
    "b = 3\n",
    "print(a + b)\n",
    "print(a - b)\n",
    "print(a * b)\n",
    "print(a / b)\n",
    "print(a % b)\n",
    "```\n",
    "\n",
    "## Comparação\n",
    "\n",
    "```python\n",
    "print(a > b)\n",
    "print(a == b)\n",
    "print(a != b)\n",
    "```\n",
    "\n",
    "## Lógicos\n",
    "\n",
    "```python\n",
    "x = True\n",
    "y = False\n",
    "print(x and y)\n",
    "print(x or y)\n",
    "print(not x)\n",
    "```\n"
   ]
  }
 ],
 "metadata": {},
 "nbformat": 4,
 "nbformat_minor": 5
}
