{
 "cells": [
  {
   "cell_type": "markdown",
   "id": "5e70f929",
   "metadata": {},
   "source": [
    "\n",
    "# Coleções em Python\n",
    "\n",
    "## Listas\n",
    "\n",
    "```python\n",
    "frutas = [\"maçã\", \"banana\", \"laranja\"]\n",
    "print(frutas[0])\n",
    "```\n",
    "\n",
    "## Dicionários\n",
    "\n",
    "```python\n",
    "pessoa = {\"nome\": \"Ana\", \"idade\": 30}\n",
    "print(pessoa[\"nome\"])\n",
    "```\n",
    "\n",
    "## Conjuntos\n",
    "\n",
    "```python\n",
    "numeros = {1, 2, 2, 3}\n",
    "print(numeros)\n",
    "```\n",
    "\n",
    "## Tuplas\n",
    "\n",
    "```python\n",
    "coordenadas = (10, 20)\n",
    "print(coordenadas[0])\n",
    "```\n"
   ]
  }
 ],
 "metadata": {},
 "nbformat": 4,
 "nbformat_minor": 5
}
