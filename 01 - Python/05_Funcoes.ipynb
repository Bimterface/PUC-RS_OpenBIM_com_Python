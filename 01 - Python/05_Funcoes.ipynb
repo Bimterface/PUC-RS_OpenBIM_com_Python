{
 "cells": [
  {
   "cell_type": "markdown",
   "id": "5b6646bc",
   "metadata": {},
   "source": [
    "\n",
    "# Funções em Python\n",
    "\n",
    "```python\n",
    "def saudacao(nome):\n",
    "    return f\"Olá, {nome}!\"\n",
    "\n",
    "mensagem = saudacao(\"Maria\")\n",
    "print(mensagem)\n",
    "```\n"
   ]
  }
 ],
 "metadata": {},
 "nbformat": 4,
 "nbformat_minor": 5
}
