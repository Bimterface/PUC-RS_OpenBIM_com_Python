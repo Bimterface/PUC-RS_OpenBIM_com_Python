{
 "cells": [
  {
   "cell_type": "markdown",
   "id": "73b4959c",
   "metadata": {},
   "source": [
    "\n",
    "# Manipulação de Strings\n",
    "\n",
    "```python\n",
    "texto = \"Curso de Python\"\n",
    "print(texto.lower())\n",
    "print(texto.upper())\n",
    "print(texto.replace(\"Python\", \"IFC\"))\n",
    "print(texto.split())\n",
    "```\n"
   ]
  }
 ],
 "metadata": {},
 "nbformat": 4,
 "nbformat_minor": 5
}
