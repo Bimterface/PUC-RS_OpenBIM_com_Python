{
 "cells": [
  {
   "cell_type": "markdown",
   "id": "b4e43765",
   "metadata": {},
   "source": [
    "\n",
    "# Estruturas de Controle\n",
    "\n",
    "## Condicional\n",
    "\n",
    "```python\n",
    "idade = 20\n",
    "if idade >= 18:\n",
    "    print(\"Maior de idade\")\n",
    "else:\n",
    "    print(\"Menor de idade\")\n",
    "```\n",
    "\n",
    "## Repetição (for)\n",
    "\n",
    "```python\n",
    "for i in range(5):\n",
    "    print(i)\n",
    "```\n",
    "\n",
    "## Repetição (while)\n",
    "\n",
    "```python\n",
    "contador = 0\n",
    "while contador < 3:\n",
    "    print(contador)\n",
    "    contador += 1\n",
    "```\n"
   ]
  }
 ],
 "metadata": {},
 "nbformat": 4,
 "nbformat_minor": 5
}
