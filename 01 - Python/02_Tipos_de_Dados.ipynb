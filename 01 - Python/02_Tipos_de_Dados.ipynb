{
 "cells": [
  {
   "cell_type": "markdown",
   "id": "73abcf63",
   "metadata": {},
   "source": [
    "\n",
    "# Tipos de Dados em Python\n",
    "\n",
    "```python\n",
    "inteiro = 10\n",
    "flutuante = 3.14\n",
    "booleano = True\n",
    "texto = \"Python\"\n",
    "\n",
    "print(type(inteiro))\n",
    "print(type(flutuante))\n",
    "print(type(booleano))\n",
    "print(type(texto))\n",
    "```\n"
   ]
  }
 ],
 "metadata": {},
 "nbformat": 4,
 "nbformat_minor": 5
}
