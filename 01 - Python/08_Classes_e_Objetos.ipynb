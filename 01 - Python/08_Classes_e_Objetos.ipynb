{
 "cells": [
  {
   "cell_type": "markdown",
   "id": "261d4396",
   "metadata": {},
   "source": [
    "\n",
    "# Classes e Objetos\n",
    "\n",
    "```python\n",
    "class Pessoa:\n",
    "    def __init__(self, nome, idade):\n",
    "        self.nome = nome\n",
    "        self.idade = idade\n",
    "\n",
    "    def apresentar(self):\n",
    "        print(f\"Olá, meu nome é {self.nome} e tenho {self.idade} anos.\")\n",
    "\n",
    "p = Pessoa(\"Carlos\", 40)\n",
    "p.apresentar()\n",
    "```\n"
   ]
  }
 ],
 "metadata": {},
 "nbformat": 4,
 "nbformat_minor": 5
}
