{
 "cells": [
  {
   "cell_type": "markdown",
   "id": "287f6d86",
   "metadata": {},
   "source": [
    "\n",
    "# Variáveis em Python\n",
    "\n",
    "## Criando variáveis\n",
    "\n",
    "```python\n",
    "nome = \"João\"\n",
    "idade = 25\n",
    "altura = 1.75\n",
    "```\n",
    "\n",
    "## Exibindo valores\n",
    "\n",
    "```python\n",
    "print(\"Nome:\", nome)\n",
    "print(\"Idade:\", idade)\n",
    "print(\"Altura:\", altura)\n",
    "```\n"
   ]
  }
 ],
 "metadata": {},
 "nbformat": 4,
 "nbformat_minor": 5
}
