{
 "cells": [
  {
   "cell_type": "markdown",
   "id": "f05704e0",
   "metadata": {},
   "source": [
    "\n",
    "# 📄 Leitura de Arquivos IFC com IfcOpenShell\n",
    "\n",
    "Vamos carregar e explorar o arquivo IFC: `ARQ_smallApartment.ifc`\n",
    "\n",
    "```python\n",
    "import ifcopenshell\n",
    "\n",
    "# Carregar o arquivo IFC\n",
    "arquivo_ifc = ifcopenshell.open(\"/mnt/data/ARQ_smallApartment.ifc\")\n",
    "\n",
    "# Verificar quantas entidades existem\n",
    "print(\"Número total de entidades:\", len(arquivo_ifc))\n",
    "\n",
    "# Listar tipos de entidades presentes\n",
    "tipos = set(entidade.is_a() for entidade in arquivo_ifc)\n",
    "print(\"Tipos de entidades encontrados:\")\n",
    "for tipo in sorted(tipos):\n",
    "    print(\"-\", tipo)\n",
    "```\n"
   ]
  }
 ],
 "metadata": {},
 "nbformat": 4,
 "nbformat_minor": 5
}
