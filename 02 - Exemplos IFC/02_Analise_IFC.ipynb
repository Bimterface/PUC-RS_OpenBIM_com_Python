{
 "cells": [
  {
   "cell_type": "markdown",
   "id": "af62d563",
   "metadata": {},
   "source": [
    "\n",
    "# 🔍 Análise de elementos IFC\n",
    "\n",
    "Vamos analisar elementos específicos como paredes e portas.\n",
    "\n",
    "```python\n",
    "import ifcopenshell\n",
    "\n",
    "arquivo_ifc = ifcopenshell.open(\"ARQ_smallApartment.ifc\")\n",
    "\n",
    "# Buscar todas as paredes (IfcWall)\n",
    "paredes = arquivo_ifc.by_type(\"IfcWall\")\n",
    "print(f\"Total de paredes: {len(paredes)}\")\n",
    "\n",
    "# Exibir informações de algumas paredes\n",
    "for parede in paredes[:5]:\n",
    "    print(\"GlobalId:\", parede.GlobalId)\n",
    "    print(\"Name:\", parede.Name)\n",
    "    print(\"Tag:\", parede.Tag)\n",
    "    print(\"---\")\n",
    "```\n"
   ]
  }
 ],
 "metadata": {},
 "nbformat": 4,
 "nbformat_minor": 5
}
