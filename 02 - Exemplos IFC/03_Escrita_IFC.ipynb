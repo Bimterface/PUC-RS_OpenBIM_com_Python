{
 "cells": [
  {
   "cell_type": "markdown",
   "id": "b2c452db",
   "metadata": {},
   "source": [
    "\n",
    "# ✍️ Criando um novo arquivo IFC com IfcOpenShell\n",
    "\n",
    "Neste exemplo, vamos criar um novo arquivo IFC e adicionar um projeto vazio.\n",
    "\n",
    "```python\n",
    "import ifcopenshell\n",
    "import ifcopenshell.api\n",
    "\n",
    "# Criar arquivo vazio\n",
    "modelo = ifcopenshell.file(schema=\"IFC2X3\")\n",
    "\n",
    "# Criar projeto\n",
    "projeto = ifcopenshell.api.run(\"root.create_entity\", modelo, ifc_class=\"IfcProject\", name=\"Projeto Exemplo\")\n",
    "\n",
    "# Definir unidade\n",
    "ifcopenshell.api.run(\"unit.assign_unit\", modelo, length={\"is_metric\": True, \"unit_type\": \"LENGTHUNIT\", \"name\": \"METRE\"})\n",
    "\n",
    "# Associar projeto ao contexto\n",
    "contexto = ifcopenshell.api.run(\"context.add_context\", modelo, context_type=\"Model\")\n",
    "ifcopenshell.api.run(\"project.assign_declaration\", modelo, definition=projeto, relating_context=contexto)\n",
    "\n",
    "# Salvar novo arquivo IFC\n",
    "modelo.write(\"novo_projeto.ifc\")\n",
    "print(\"Arquivo IFC criado: novo_projeto.ifc\")\n",
    "```\n"
   ]
  }
 ],
 "metadata": {},
 "nbformat": 4,
 "nbformat_minor": 5
}
